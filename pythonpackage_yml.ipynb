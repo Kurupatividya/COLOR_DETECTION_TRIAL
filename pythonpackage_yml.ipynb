{
  "nbformat": 4,
  "nbformat_minor": 0,
  "metadata": {
    "colab": {
      "provenance": [],
      "mount_file_id": "1OBleX7P5mWBctumx6jUS6FCLYrLNzArp",
      "authorship_tag": "ABX9TyNvRhzyZf2eRjHZTenQbadv",
      "include_colab_link": true
    },
    "kernelspec": {
      "name": "python3",
      "display_name": "Python 3"
    },
    "language_info": {
      "name": "python"
    }
  },
  "cells": [
    {
      "cell_type": "markdown",
      "metadata": {
        "id": "view-in-github",
        "colab_type": "text"
      },
      "source": [
        "<a href=\"https://colab.research.google.com/github/Kurupatividya/COLOR_DETECTION_TRIAL/blob/main/pythonpackage_yml.ipynb\" target=\"_parent\"><img src=\"https://colab.research.google.com/assets/colab-badge.svg\" alt=\"Open In Colab\"/></a>"
      ]
    },
    {
      "cell_type": "code",
      "execution_count": 1,
      "metadata": {
        "id": "RYFB59re2eoU",
        "outputId": "b66d50a1-b007-448d-8042-2c95493f4f70",
        "colab": {
          "base_uri": "https://localhost:8080/",
          "height": 140
        }
      },
      "outputs": [
        {
          "output_type": "error",
          "ename": "SyntaxError",
          "evalue": "ignored",
          "traceback": [
            "\u001b[0;36m  File \u001b[0;32m\"<ipython-input-1-39c8148fc1da>\"\u001b[0;36m, line \u001b[0;32m4\u001b[0m\n\u001b[0;31m    name: Python package\u001b[0m\n\u001b[0m                 ^\u001b[0m\n\u001b[0;31mSyntaxError\u001b[0m\u001b[0;31m:\u001b[0m invalid syntax\n"
          ]
        }
      ],
      "source": [
        "# This workflow will install Python dependencies, run tests and lint with a variety of Python versions\n",
        "# For more information see: https://help.github.com/actions/language-and-framework-guides/using-python-with-github-actions\n",
        "\n",
        "name: Python package\n",
        "\n",
        "on:\n",
        "  push:\n",
        "    branches: [ master ]\n",
        "  pull_request:\n",
        "    branches: [ master ]\n",
        "\n",
        "jobs:\n",
        "  build:\n",
        "\n",
        "    runs-on: ubuntu-latest\n",
        "    strategy:\n",
        "      matrix:\n",
        "        python-version: [3.5, 3.6, 3.7, 3.8]\n",
        "\n",
        "    steps:\n",
        "    - uses: actions/checkout@v2\n",
        "    - name: Set up Python ${{ matrix.python-version }}\n",
        "      uses: actions/setup-python@v1\n",
        "      with:\n",
        "        python-version: ${{ matrix.python-version }}\n",
        "    - name: Install dependencies\n",
        "      run: |\n",
        "        python -m pip install --upgrade pip\n",
        "        pip install -r requirements.txt\n",
        "    - name: Lint with flake8\n",
        "      run: |\n",
        "        pip install flake8\n",
        "        # stop the build if there are Python syntax errors or undefined names\n",
        "        flake8 . --count --select=E9,F63,F7,F82 --show-source --statistics\n",
        "        # exit-zero treats all errors as warnings. The GitHub editor is 127 chars wide\n",
        "        flake8 . --count --exit-zero --max-complexity=10 --max-line-length=127 --statistics\n",
        "    - name: Test with pytest\n",
        "      run: |\n",
        "        pip install pytest\n",
        "        pytest"
      ]
    },
    {
      "cell_type": "code",
      "source": [],
      "metadata": {
        "id": "r6ZvW-GyUYsH"
      },
      "execution_count": null,
      "outputs": []
    }
  ]
}